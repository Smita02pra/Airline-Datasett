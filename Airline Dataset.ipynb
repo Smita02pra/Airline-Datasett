{
 "cells": [
  {
   "cell_type": "code",
   "execution_count": 43,
   "id": "5b5b8b3f-16c4-46c0-b97e-d53d298560cf",
   "metadata": {},
   "outputs": [],
   "source": [
    "import pandas as pd\n",
    "import matplotlib.pyplot as plt "
   ]
  },
  {
   "cell_type": "code",
   "execution_count": 44,
   "id": "b4aebda2-888f-4680-a2aa-aeded6cc4820",
   "metadata": {},
   "outputs": [],
   "source": [
    "df=pd.read_csv('Airline Dataset.csv')"
   ]
  },
  {
   "cell_type": "code",
   "execution_count": 45,
   "id": "fbdead7d-6f76-45b9-a4ed-e78ed1f1a367",
   "metadata": {},
   "outputs": [],
   "source": [
    "# convert departure date to datetime\n",
    "df['Departure Date']=pd.to_datetime(df['Departure Date'])"
   ]
  },
  {
   "cell_type": "code",
   "execution_count": 46,
   "id": "a45919dc-c8d3-418b-baa8-999146b93862",
   "metadata": {},
   "outputs": [
    {
     "data": {
      "text/plain": [
       "(98619, 15)"
      ]
     },
     "execution_count": 46,
     "metadata": {},
     "output_type": "execute_result"
    }
   ],
   "source": [
    "# load dataset \n",
    "df.shape"
   ]
  },
  {
   "cell_type": "code",
   "execution_count": 47,
   "id": "99800538-5d41-4cfb-91f8-34a8ba60b0e0",
   "metadata": {},
   "outputs": [
    {
     "name": "stdout",
     "output_type": "stream",
     "text": [
      "<class 'pandas.core.frame.DataFrame'>\n",
      "RangeIndex: 98619 entries, 0 to 98618\n",
      "Data columns (total 15 columns):\n",
      " #   Column                Non-Null Count  Dtype         \n",
      "---  ------                --------------  -----         \n",
      " 0   Passenger ID          98619 non-null  int64         \n",
      " 1   First Name            98619 non-null  object        \n",
      " 2   Last Name             98619 non-null  object        \n",
      " 3   Gender                98619 non-null  object        \n",
      " 4   Age                   98619 non-null  int64         \n",
      " 5   Nationality           98619 non-null  object        \n",
      " 6   Airport Name          98619 non-null  object        \n",
      " 7   Airport Country Code  98619 non-null  object        \n",
      " 8   Country Name          98619 non-null  object        \n",
      " 9   Airport Continent     98619 non-null  object        \n",
      " 10  Continents            98619 non-null  object        \n",
      " 11  Departure Date        98619 non-null  datetime64[ns]\n",
      " 12  Arrival Airport       98619 non-null  object        \n",
      " 13  Pilot Name            98619 non-null  object        \n",
      " 14  Flight Status         98619 non-null  object        \n",
      "dtypes: datetime64[ns](1), int64(2), object(12)\n",
      "memory usage: 11.3+ MB\n"
     ]
    }
   ],
   "source": [
    "# data information\n",
    "df.info()"
   ]
  },
  {
   "cell_type": "code",
   "execution_count": 48,
   "id": "0fcbdbe7-271b-4a05-ba4b-fc1aee774529",
   "metadata": {},
   "outputs": [
    {
     "data": {
      "text/plain": [
       "Passenger ID            0\n",
       "First Name              0\n",
       "Last Name               0\n",
       "Gender                  0\n",
       "Age                     0\n",
       "Nationality             0\n",
       "Airport Name            0\n",
       "Airport Country Code    0\n",
       "Country Name            0\n",
       "Airport Continent       0\n",
       "Continents              0\n",
       "Departure Date          0\n",
       "Arrival Airport         0\n",
       "Pilot Name              0\n",
       "Flight Status           0\n",
       "dtype: int64"
      ]
     },
     "execution_count": 48,
     "metadata": {},
     "output_type": "execute_result"
    }
   ],
   "source": [
    "# missing value count\n",
    "df.isnull().sum()"
   ]
  },
  {
   "cell_type": "code",
   "execution_count": 49,
   "id": "53fa3473-fb56-41ff-8aca-83902d72f2bd",
   "metadata": {},
   "outputs": [
    {
     "data": {
      "text/html": [
       "<div>\n",
       "<style scoped>\n",
       "    .dataframe tbody tr th:only-of-type {\n",
       "        vertical-align: middle;\n",
       "    }\n",
       "\n",
       "    .dataframe tbody tr th {\n",
       "        vertical-align: top;\n",
       "    }\n",
       "\n",
       "    .dataframe thead th {\n",
       "        text-align: right;\n",
       "    }\n",
       "</style>\n",
       "<table border=\"1\" class=\"dataframe\">\n",
       "  <thead>\n",
       "    <tr style=\"text-align: right;\">\n",
       "      <th></th>\n",
       "      <th>Passenger ID</th>\n",
       "      <th>First Name</th>\n",
       "      <th>Last Name</th>\n",
       "      <th>Gender</th>\n",
       "      <th>Age</th>\n",
       "      <th>Nationality</th>\n",
       "      <th>Airport Name</th>\n",
       "      <th>Airport Country Code</th>\n",
       "      <th>Country Name</th>\n",
       "      <th>Airport Continent</th>\n",
       "      <th>Continents</th>\n",
       "      <th>Departure Date</th>\n",
       "      <th>Arrival Airport</th>\n",
       "      <th>Pilot Name</th>\n",
       "      <th>Flight Status</th>\n",
       "    </tr>\n",
       "  </thead>\n",
       "  <tbody>\n",
       "    <tr>\n",
       "      <th>0</th>\n",
       "      <td>10856</td>\n",
       "      <td>Edithe</td>\n",
       "      <td>Leggis</td>\n",
       "      <td>Female</td>\n",
       "      <td>62</td>\n",
       "      <td>Japan</td>\n",
       "      <td>Coldfoot Airport</td>\n",
       "      <td>US</td>\n",
       "      <td>United States</td>\n",
       "      <td>NAM</td>\n",
       "      <td>North America</td>\n",
       "      <td>2022-06-28</td>\n",
       "      <td>CXF</td>\n",
       "      <td>Edithe Leggis</td>\n",
       "      <td>On Time</td>\n",
       "    </tr>\n",
       "    <tr>\n",
       "      <th>1</th>\n",
       "      <td>43872</td>\n",
       "      <td>Elwood</td>\n",
       "      <td>Catt</td>\n",
       "      <td>Male</td>\n",
       "      <td>62</td>\n",
       "      <td>Nicaragua</td>\n",
       "      <td>Kugluktuk Airport</td>\n",
       "      <td>CA</td>\n",
       "      <td>Canada</td>\n",
       "      <td>NAM</td>\n",
       "      <td>North America</td>\n",
       "      <td>2022-12-26</td>\n",
       "      <td>YCO</td>\n",
       "      <td>Elwood Catt</td>\n",
       "      <td>On Time</td>\n",
       "    </tr>\n",
       "    <tr>\n",
       "      <th>2</th>\n",
       "      <td>42633</td>\n",
       "      <td>Darby</td>\n",
       "      <td>Felgate</td>\n",
       "      <td>Male</td>\n",
       "      <td>67</td>\n",
       "      <td>Russia</td>\n",
       "      <td>Grenoble-Isère Airport</td>\n",
       "      <td>FR</td>\n",
       "      <td>France</td>\n",
       "      <td>EU</td>\n",
       "      <td>Europe</td>\n",
       "      <td>2022-01-18</td>\n",
       "      <td>GNB</td>\n",
       "      <td>Darby Felgate</td>\n",
       "      <td>On Time</td>\n",
       "    </tr>\n",
       "    <tr>\n",
       "      <th>3</th>\n",
       "      <td>78493</td>\n",
       "      <td>Dominica</td>\n",
       "      <td>Pyle</td>\n",
       "      <td>Female</td>\n",
       "      <td>71</td>\n",
       "      <td>China</td>\n",
       "      <td>Ottawa / Gatineau Airport</td>\n",
       "      <td>CA</td>\n",
       "      <td>Canada</td>\n",
       "      <td>NAM</td>\n",
       "      <td>North America</td>\n",
       "      <td>2022-09-16</td>\n",
       "      <td>YND</td>\n",
       "      <td>Dominica Pyle</td>\n",
       "      <td>Delayed</td>\n",
       "    </tr>\n",
       "    <tr>\n",
       "      <th>4</th>\n",
       "      <td>82072</td>\n",
       "      <td>Bay</td>\n",
       "      <td>Pencost</td>\n",
       "      <td>Male</td>\n",
       "      <td>21</td>\n",
       "      <td>China</td>\n",
       "      <td>Gillespie Field</td>\n",
       "      <td>US</td>\n",
       "      <td>United States</td>\n",
       "      <td>NAM</td>\n",
       "      <td>North America</td>\n",
       "      <td>2022-02-25</td>\n",
       "      <td>SEE</td>\n",
       "      <td>Bay Pencost</td>\n",
       "      <td>On Time</td>\n",
       "    </tr>\n",
       "  </tbody>\n",
       "</table>\n",
       "</div>"
      ],
      "text/plain": [
       "   Passenger ID First Name Last Name  Gender  Age Nationality  \\\n",
       "0         10856     Edithe    Leggis  Female   62       Japan   \n",
       "1         43872     Elwood      Catt    Male   62   Nicaragua   \n",
       "2         42633      Darby   Felgate    Male   67      Russia   \n",
       "3         78493   Dominica      Pyle  Female   71       China   \n",
       "4         82072        Bay   Pencost    Male   21       China   \n",
       "\n",
       "                Airport Name Airport Country Code   Country Name  \\\n",
       "0           Coldfoot Airport                   US  United States   \n",
       "1          Kugluktuk Airport                   CA         Canada   \n",
       "2     Grenoble-Isère Airport                   FR         France   \n",
       "3  Ottawa / Gatineau Airport                   CA         Canada   \n",
       "4            Gillespie Field                   US  United States   \n",
       "\n",
       "  Airport Continent     Continents Departure Date Arrival Airport  \\\n",
       "0               NAM  North America     2022-06-28             CXF   \n",
       "1               NAM  North America     2022-12-26             YCO   \n",
       "2                EU         Europe     2022-01-18             GNB   \n",
       "3               NAM  North America     2022-09-16             YND   \n",
       "4               NAM  North America     2022-02-25             SEE   \n",
       "\n",
       "      Pilot Name Flight Status  \n",
       "0  Edithe Leggis       On Time  \n",
       "1    Elwood Catt       On Time  \n",
       "2  Darby Felgate       On Time  \n",
       "3  Dominica Pyle       Delayed  \n",
       "4    Bay Pencost       On Time  "
      ]
     },
     "execution_count": 49,
     "metadata": {},
     "output_type": "execute_result"
    }
   ],
   "source": [
    "# load data\n",
    "df.head()"
   ]
  },
  {
   "cell_type": "code",
   "execution_count": 50,
   "id": "ffe2ecdb-f227-4f3b-ac47-190664fe1089",
   "metadata": {},
   "outputs": [
    {
     "data": {
      "text/plain": [
       "Flight Status\n",
       "Cancelled    32942\n",
       "On Time      32846\n",
       "Delayed      32831\n",
       "Name: count, dtype: int64"
      ]
     },
     "execution_count": 50,
     "metadata": {},
     "output_type": "execute_result"
    }
   ],
   "source": [
    "# flight status count \n",
    "df['Flight Status'].value_counts()"
   ]
  },
  {
   "cell_type": "code",
   "execution_count": 51,
   "id": "ed769553-164d-474a-b419-19e216f95401",
   "metadata": {},
   "outputs": [
    {
     "data": {
      "text/plain": [
       "Gender\n",
       "Male      49598\n",
       "Female    49021\n",
       "Name: count, dtype: int64"
      ]
     },
     "execution_count": 51,
     "metadata": {},
     "output_type": "execute_result"
    }
   ],
   "source": [
    "#gender count \n",
    "df['Gender'].value_counts()"
   ]
  },
  {
   "cell_type": "code",
   "execution_count": 52,
   "id": "44643a69-30d8-4808-8580-362988ff10f5",
   "metadata": {},
   "outputs": [
    {
     "data": {
      "text/plain": [
       "np.float64(45.50402052342855)"
      ]
     },
     "execution_count": 52,
     "metadata": {},
     "output_type": "execute_result"
    }
   ],
   "source": [
    "# average age \n",
    "df['Age'].mean()"
   ]
  },
  {
   "cell_type": "code",
   "execution_count": 53,
   "id": "1299e961-6069-4dc6-a028-a4b942deb6cb",
   "metadata": {},
   "outputs": [
    {
     "data": {
      "text/plain": [
       "First Name       Pamella\n",
       "Last Name          Eaden\n",
       "Age                   90\n",
       "Gender            Female\n",
       "Nationality    Indonesia\n",
       "Name: 170, dtype: object"
      ]
     },
     "execution_count": 53,
     "metadata": {},
     "output_type": "execute_result"
    }
   ],
   "source": [
    "# oldest passenger info \n",
    "df.loc[df['Age'].idxmax(),['First Name','Last Name','Age','Gender','Nationality']]"
   ]
  },
  {
   "cell_type": "code",
   "execution_count": 54,
   "id": "3bdb3c69-6ec2-4a74-979e-818549751dff",
   "metadata": {},
   "outputs": [
    {
     "data": {
      "text/plain": [
       "Nationality\n",
       "China                          18317\n",
       "Indonesia                      10559\n",
       "Russia                          5693\n",
       "Philippines                     5239\n",
       "Brazil                          3791\n",
       "                               ...  \n",
       "French Southern Territories        2\n",
       "Saint Martin                       2\n",
       "Norfolk Island                     1\n",
       "Jersey                             1\n",
       "Sint Maarten                       1\n",
       "Name: count, Length: 240, dtype: int64"
      ]
     },
     "execution_count": 54,
     "metadata": {},
     "output_type": "execute_result"
    }
   ],
   "source": [
    "# passenger per nationality \n",
    "df['Nationality'].value_counts()"
   ]
  },
  {
   "cell_type": "code",
   "execution_count": 55,
   "id": "756c44ba-ddeb-465c-b5b6-0001d860e7eb",
   "metadata": {},
   "outputs": [
    {
     "data": {
      "text/html": [
       "<div>\n",
       "<style scoped>\n",
       "    .dataframe tbody tr th:only-of-type {\n",
       "        vertical-align: middle;\n",
       "    }\n",
       "\n",
       "    .dataframe tbody tr th {\n",
       "        vertical-align: top;\n",
       "    }\n",
       "\n",
       "    .dataframe thead th {\n",
       "        text-align: right;\n",
       "    }\n",
       "</style>\n",
       "<table border=\"1\" class=\"dataframe\">\n",
       "  <thead>\n",
       "    <tr style=\"text-align: right;\">\n",
       "      <th></th>\n",
       "      <th>Passenger ID</th>\n",
       "      <th>First Name</th>\n",
       "      <th>Last Name</th>\n",
       "      <th>Gender</th>\n",
       "      <th>Age</th>\n",
       "      <th>Nationality</th>\n",
       "      <th>Airport Name</th>\n",
       "      <th>Airport Country Code</th>\n",
       "      <th>Country Name</th>\n",
       "      <th>Airport Continent</th>\n",
       "      <th>Continents</th>\n",
       "      <th>Departure Date</th>\n",
       "      <th>Arrival Airport</th>\n",
       "      <th>Pilot Name</th>\n",
       "      <th>Flight Status</th>\n",
       "    </tr>\n",
       "  </thead>\n",
       "  <tbody>\n",
       "    <tr>\n",
       "      <th>25833</th>\n",
       "      <td>81037</td>\n",
       "      <td>Ajay</td>\n",
       "      <td>Thormann</td>\n",
       "      <td>Female</td>\n",
       "      <td>46</td>\n",
       "      <td>Portugal</td>\n",
       "      <td>Masvingo International Airport</td>\n",
       "      <td>ZW</td>\n",
       "      <td>Zimbabwe</td>\n",
       "      <td>AF</td>\n",
       "      <td>Africa</td>\n",
       "      <td>2022-07-14</td>\n",
       "      <td>MVZ</td>\n",
       "      <td>Ajay Thormann</td>\n",
       "      <td>Cancelled</td>\n",
       "    </tr>\n",
       "    <tr>\n",
       "      <th>48818</th>\n",
       "      <td>11525</td>\n",
       "      <td>Dennet</td>\n",
       "      <td>Moar</td>\n",
       "      <td>Male</td>\n",
       "      <td>41</td>\n",
       "      <td>Argentina</td>\n",
       "      <td>Thornhill Air Base</td>\n",
       "      <td>ZW</td>\n",
       "      <td>Zimbabwe</td>\n",
       "      <td>AF</td>\n",
       "      <td>Africa</td>\n",
       "      <td>2022-07-26</td>\n",
       "      <td>GWE</td>\n",
       "      <td>Dennet Moar</td>\n",
       "      <td>On Time</td>\n",
       "    </tr>\n",
       "    <tr>\n",
       "      <th>78879</th>\n",
       "      <td>50213</td>\n",
       "      <td>Fidela</td>\n",
       "      <td>Rockcliffe</td>\n",
       "      <td>Female</td>\n",
       "      <td>75</td>\n",
       "      <td>Brazil</td>\n",
       "      <td>Bumi Airport</td>\n",
       "      <td>ZW</td>\n",
       "      <td>Zimbabwe</td>\n",
       "      <td>AF</td>\n",
       "      <td>Africa</td>\n",
       "      <td>2022-09-25</td>\n",
       "      <td>BZH</td>\n",
       "      <td>Fidela Rockcliffe</td>\n",
       "      <td>Cancelled</td>\n",
       "    </tr>\n",
       "    <tr>\n",
       "      <th>43129</th>\n",
       "      <td>84532</td>\n",
       "      <td>Jana</td>\n",
       "      <td>Furzer</td>\n",
       "      <td>Female</td>\n",
       "      <td>76</td>\n",
       "      <td>Indonesia</td>\n",
       "      <td>Hwange National Park Airport</td>\n",
       "      <td>ZW</td>\n",
       "      <td>Zimbabwe</td>\n",
       "      <td>AF</td>\n",
       "      <td>Africa</td>\n",
       "      <td>2022-03-20</td>\n",
       "      <td>HWN</td>\n",
       "      <td>Jana Furzer</td>\n",
       "      <td>On Time</td>\n",
       "    </tr>\n",
       "    <tr>\n",
       "      <th>20445</th>\n",
       "      <td>22433</td>\n",
       "      <td>Falito</td>\n",
       "      <td>Chisnell</td>\n",
       "      <td>Male</td>\n",
       "      <td>88</td>\n",
       "      <td>China</td>\n",
       "      <td>Buffalo Range Airport</td>\n",
       "      <td>ZW</td>\n",
       "      <td>Zimbabwe</td>\n",
       "      <td>AF</td>\n",
       "      <td>Africa</td>\n",
       "      <td>2022-08-29</td>\n",
       "      <td>BFO</td>\n",
       "      <td>Falito Chisnell</td>\n",
       "      <td>On Time</td>\n",
       "    </tr>\n",
       "  </tbody>\n",
       "</table>\n",
       "</div>"
      ],
      "text/plain": [
       "       Passenger ID First Name   Last Name  Gender  Age Nationality  \\\n",
       "25833         81037       Ajay    Thormann  Female   46    Portugal   \n",
       "48818         11525     Dennet        Moar    Male   41   Argentina   \n",
       "78879         50213     Fidela  Rockcliffe  Female   75      Brazil   \n",
       "43129         84532       Jana      Furzer  Female   76   Indonesia   \n",
       "20445         22433     Falito    Chisnell    Male   88       China   \n",
       "\n",
       "                         Airport Name Airport Country Code Country Name  \\\n",
       "25833  Masvingo International Airport                   ZW     Zimbabwe   \n",
       "48818              Thornhill Air Base                   ZW     Zimbabwe   \n",
       "78879                    Bumi Airport                   ZW     Zimbabwe   \n",
       "43129    Hwange National Park Airport                   ZW     Zimbabwe   \n",
       "20445           Buffalo Range Airport                   ZW     Zimbabwe   \n",
       "\n",
       "      Airport Continent Continents Departure Date Arrival Airport  \\\n",
       "25833                AF     Africa     2022-07-14             MVZ   \n",
       "48818                AF     Africa     2022-07-26             GWE   \n",
       "78879                AF     Africa     2022-09-25             BZH   \n",
       "43129                AF     Africa     2022-03-20             HWN   \n",
       "20445                AF     Africa     2022-08-29             BFO   \n",
       "\n",
       "              Pilot Name Flight Status  \n",
       "25833      Ajay Thormann     Cancelled  \n",
       "48818        Dennet Moar       On Time  \n",
       "78879  Fidela Rockcliffe     Cancelled  \n",
       "43129        Jana Furzer       On Time  \n",
       "20445    Falito Chisnell       On Time  "
      ]
     },
     "execution_count": 55,
     "metadata": {},
     "output_type": "execute_result"
    }
   ],
   "source": [
    "# top 5 departure countries \n",
    "df.sort_values(by='Country Name',ascending=False).head(5)"
   ]
  },
  {
   "cell_type": "code",
   "execution_count": 56,
   "id": "3b8aa67c-9939-4436-973a-78c074b8a117",
   "metadata": {},
   "outputs": [
    {
     "data": {
      "text/plain": [
       "Airport Continent\n",
       "NAM    32033\n",
       "AS     18637\n",
       "OC     13866\n",
       "EU     12335\n",
       "AF     11030\n",
       "SAM    10718\n",
       "Name: count, dtype: int64"
      ]
     },
     "execution_count": 56,
     "metadata": {},
     "output_type": "execute_result"
    }
   ],
   "source": [
    "# flights per continent \n",
    "df['Airport Continent'].value_counts()"
   ]
  },
  {
   "cell_type": "code",
   "execution_count": 57,
   "id": "28f61797-0fae-459b-98d1-3b4dc3545daf",
   "metadata": {},
   "outputs": [
    {
     "data": {
      "text/plain": [
       "Departure Date\n",
       "1     8416\n",
       "2     7653\n",
       "3     8431\n",
       "4     7959\n",
       "5     8496\n",
       "6     8128\n",
       "7     8451\n",
       "8     8544\n",
       "9     8149\n",
       "10    8415\n",
       "11    8053\n",
       "12    7924\n",
       "Name: count, dtype: int64"
      ]
     },
     "execution_count": 57,
     "metadata": {},
     "output_type": "execute_result"
    }
   ],
   "source": [
    "# flights per month \n",
    "df['Departure Date'].dt.month.value_counts().sort_index()"
   ]
  },
  {
   "cell_type": "code",
   "execution_count": 58,
   "id": "09d9372b-d5fb-46d9-b52d-84794ca380b9",
   "metadata": {},
   "outputs": [
    {
     "data": {
      "text/plain": [
       "Age\n",
       "(65, 100]    27282\n",
       "(0, 18]      19646\n",
       "(18, 35]     18605\n",
       "(50, 65]     16549\n",
       "(35, 50]     16537\n",
       "Name: count, dtype: int64"
      ]
     },
     "execution_count": 58,
     "metadata": {},
     "output_type": "execute_result"
    }
   ],
   "source": [
    "# age distribution bins\n",
    "pd.cut(df['Age'], bins=[0,18,35,50,65,100]).value_counts()"
   ]
  },
  {
   "cell_type": "code",
   "execution_count": 59,
   "id": "ccad766e-e5a7-4218-9873-79b349f20f00",
   "metadata": {},
   "outputs": [
    {
     "data": {
      "text/plain": [
       "Pilot Name\n",
       "Auberon Alennikov      2\n",
       "Brig Shuxsmith         2\n",
       "Damian Garnsey         2\n",
       "Karyn Heersema         2\n",
       "Ollie Sidle            2\n",
       "                      ..\n",
       "Iseabal Knocker        1\n",
       "Ludovico Moye          1\n",
       "Allen Hlavecek         1\n",
       "Adler Ferrero          1\n",
       "Dyna De'Vere - Hunt    1\n",
       "Name: count, Length: 98610, dtype: int64"
      ]
     },
     "execution_count": 59,
     "metadata": {},
     "output_type": "execute_result"
    }
   ],
   "source": [
    "# flights per pilot \n",
    "df['Pilot Name'].value_counts()"
   ]
  },
  {
   "cell_type": "code",
   "execution_count": 60,
   "id": "de7c4a3c-a2f2-4a1a-a3f2-5ad191d34c78",
   "metadata": {},
   "outputs": [
    {
     "data": {
      "text/html": [
       "<div>\n",
       "<style scoped>\n",
       "    .dataframe tbody tr th:only-of-type {\n",
       "        vertical-align: middle;\n",
       "    }\n",
       "\n",
       "    .dataframe tbody tr th {\n",
       "        vertical-align: top;\n",
       "    }\n",
       "\n",
       "    .dataframe thead th {\n",
       "        text-align: right;\n",
       "    }\n",
       "</style>\n",
       "<table border=\"1\" class=\"dataframe\">\n",
       "  <thead>\n",
       "    <tr style=\"text-align: right;\">\n",
       "      <th></th>\n",
       "      <th>Passenger ID</th>\n",
       "      <th>First Name</th>\n",
       "      <th>Last Name</th>\n",
       "      <th>Gender</th>\n",
       "      <th>Age</th>\n",
       "      <th>Nationality</th>\n",
       "      <th>Airport Name</th>\n",
       "      <th>Airport Country Code</th>\n",
       "      <th>Country Name</th>\n",
       "      <th>Airport Continent</th>\n",
       "      <th>Continents</th>\n",
       "      <th>Departure Date</th>\n",
       "      <th>Arrival Airport</th>\n",
       "      <th>Pilot Name</th>\n",
       "      <th>Flight Status</th>\n",
       "    </tr>\n",
       "  </thead>\n",
       "  <tbody>\n",
       "    <tr>\n",
       "      <th>3</th>\n",
       "      <td>78493</td>\n",
       "      <td>Dominica</td>\n",
       "      <td>Pyle</td>\n",
       "      <td>Female</td>\n",
       "      <td>71</td>\n",
       "      <td>China</td>\n",
       "      <td>Ottawa / Gatineau Airport</td>\n",
       "      <td>CA</td>\n",
       "      <td>Canada</td>\n",
       "      <td>NAM</td>\n",
       "      <td>North America</td>\n",
       "      <td>2022-09-16</td>\n",
       "      <td>YND</td>\n",
       "      <td>Dominica Pyle</td>\n",
       "      <td>Delayed</td>\n",
       "    </tr>\n",
       "    <tr>\n",
       "      <th>11</th>\n",
       "      <td>90106</td>\n",
       "      <td>Briant</td>\n",
       "      <td>De La Haye</td>\n",
       "      <td>Male</td>\n",
       "      <td>71</td>\n",
       "      <td>Russia</td>\n",
       "      <td>Ruben Cantu Airport</td>\n",
       "      <td>PA</td>\n",
       "      <td>Panama</td>\n",
       "      <td>NAM</td>\n",
       "      <td>North America</td>\n",
       "      <td>2022-02-06</td>\n",
       "      <td>SYP</td>\n",
       "      <td>Briant De La Haye</td>\n",
       "      <td>Delayed</td>\n",
       "    </tr>\n",
       "    <tr>\n",
       "      <th>12</th>\n",
       "      <td>19631</td>\n",
       "      <td>Kalie</td>\n",
       "      <td>Scoble</td>\n",
       "      <td>Female</td>\n",
       "      <td>47</td>\n",
       "      <td>Sweden</td>\n",
       "      <td>Loralai Airport</td>\n",
       "      <td>PK</td>\n",
       "      <td>Pakistan</td>\n",
       "      <td>AS</td>\n",
       "      <td>Asia</td>\n",
       "      <td>2022-03-19</td>\n",
       "      <td>LRG</td>\n",
       "      <td>Kalie Scoble</td>\n",
       "      <td>Delayed</td>\n",
       "    </tr>\n",
       "    <tr>\n",
       "      <th>13</th>\n",
       "      <td>58109</td>\n",
       "      <td>Catriona</td>\n",
       "      <td>Beaument</td>\n",
       "      <td>Female</td>\n",
       "      <td>77</td>\n",
       "      <td>Russia</td>\n",
       "      <td>Cudal Airport</td>\n",
       "      <td>AU</td>\n",
       "      <td>Australia</td>\n",
       "      <td>OC</td>\n",
       "      <td>Oceania</td>\n",
       "      <td>2022-03-24</td>\n",
       "      <td>CUG</td>\n",
       "      <td>Catriona Beaument</td>\n",
       "      <td>Delayed</td>\n",
       "    </tr>\n",
       "    <tr>\n",
       "      <th>14</th>\n",
       "      <td>53524</td>\n",
       "      <td>Amberly</td>\n",
       "      <td>Handling</td>\n",
       "      <td>Female</td>\n",
       "      <td>32</td>\n",
       "      <td>China</td>\n",
       "      <td>Farmington Regional Airport</td>\n",
       "      <td>US</td>\n",
       "      <td>United States</td>\n",
       "      <td>NAM</td>\n",
       "      <td>North America</td>\n",
       "      <td>2022-03-07</td>\n",
       "      <td>FAM</td>\n",
       "      <td>Amberly Handling</td>\n",
       "      <td>Delayed</td>\n",
       "    </tr>\n",
       "  </tbody>\n",
       "</table>\n",
       "</div>"
      ],
      "text/plain": [
       "    Passenger ID First Name   Last Name  Gender  Age Nationality  \\\n",
       "3          78493   Dominica        Pyle  Female   71       China   \n",
       "11         90106     Briant  De La Haye    Male   71      Russia   \n",
       "12         19631      Kalie      Scoble  Female   47      Sweden   \n",
       "13         58109   Catriona    Beaument  Female   77      Russia   \n",
       "14         53524    Amberly    Handling  Female   32       China   \n",
       "\n",
       "                   Airport Name Airport Country Code   Country Name  \\\n",
       "3     Ottawa / Gatineau Airport                   CA         Canada   \n",
       "11          Ruben Cantu Airport                   PA         Panama   \n",
       "12              Loralai Airport                   PK       Pakistan   \n",
       "13                Cudal Airport                   AU      Australia   \n",
       "14  Farmington Regional Airport                   US  United States   \n",
       "\n",
       "   Airport Continent     Continents Departure Date Arrival Airport  \\\n",
       "3                NAM  North America     2022-09-16             YND   \n",
       "11               NAM  North America     2022-02-06             SYP   \n",
       "12                AS           Asia     2022-03-19             LRG   \n",
       "13                OC        Oceania     2022-03-24             CUG   \n",
       "14               NAM  North America     2022-03-07             FAM   \n",
       "\n",
       "           Pilot Name Flight Status  \n",
       "3       Dominica Pyle       Delayed  \n",
       "11  Briant De La Haye       Delayed  \n",
       "12       Kalie Scoble       Delayed  \n",
       "13  Catriona Beaument       Delayed  \n",
       "14   Amberly Handling       Delayed  "
      ]
     },
     "execution_count": 60,
     "metadata": {},
     "output_type": "execute_result"
    }
   ],
   "source": [
    "# delayed flight\n",
    "df[df['Flight Status']=='Delayed'].head(5)"
   ]
  },
  {
   "cell_type": "code",
   "execution_count": 61,
   "id": "6b256ca1-93f1-4346-ba28-e1556d81fab6",
   "metadata": {},
   "outputs": [
    {
     "data": {
      "text/html": [
       "<div>\n",
       "<style scoped>\n",
       "    .dataframe tbody tr th:only-of-type {\n",
       "        vertical-align: middle;\n",
       "    }\n",
       "\n",
       "    .dataframe tbody tr th {\n",
       "        vertical-align: top;\n",
       "    }\n",
       "\n",
       "    .dataframe thead th {\n",
       "        text-align: right;\n",
       "    }\n",
       "</style>\n",
       "<table border=\"1\" class=\"dataframe\">\n",
       "  <thead>\n",
       "    <tr style=\"text-align: right;\">\n",
       "      <th></th>\n",
       "      <th>Passenger ID</th>\n",
       "      <th>First Name</th>\n",
       "      <th>Last Name</th>\n",
       "      <th>Gender</th>\n",
       "      <th>Age</th>\n",
       "      <th>Nationality</th>\n",
       "      <th>Airport Name</th>\n",
       "      <th>Airport Country Code</th>\n",
       "      <th>Country Name</th>\n",
       "      <th>Airport Continent</th>\n",
       "      <th>Continents</th>\n",
       "      <th>Departure Date</th>\n",
       "      <th>Arrival Airport</th>\n",
       "      <th>Pilot Name</th>\n",
       "      <th>Flight Status</th>\n",
       "    </tr>\n",
       "  </thead>\n",
       "  <tbody>\n",
       "    <tr>\n",
       "      <th>1</th>\n",
       "      <td>43872</td>\n",
       "      <td>Elwood</td>\n",
       "      <td>Catt</td>\n",
       "      <td>Male</td>\n",
       "      <td>62</td>\n",
       "      <td>Nicaragua</td>\n",
       "      <td>Kugluktuk Airport</td>\n",
       "      <td>CA</td>\n",
       "      <td>Canada</td>\n",
       "      <td>NAM</td>\n",
       "      <td>North America</td>\n",
       "      <td>2022-12-26</td>\n",
       "      <td>YCO</td>\n",
       "      <td>Elwood Catt</td>\n",
       "      <td>On Time</td>\n",
       "    </tr>\n",
       "    <tr>\n",
       "      <th>3</th>\n",
       "      <td>78493</td>\n",
       "      <td>Dominica</td>\n",
       "      <td>Pyle</td>\n",
       "      <td>Female</td>\n",
       "      <td>71</td>\n",
       "      <td>China</td>\n",
       "      <td>Ottawa / Gatineau Airport</td>\n",
       "      <td>CA</td>\n",
       "      <td>Canada</td>\n",
       "      <td>NAM</td>\n",
       "      <td>North America</td>\n",
       "      <td>2022-09-16</td>\n",
       "      <td>YND</td>\n",
       "      <td>Dominica Pyle</td>\n",
       "      <td>Delayed</td>\n",
       "    </tr>\n",
       "    <tr>\n",
       "      <th>9</th>\n",
       "      <td>75035</td>\n",
       "      <td>Burlie</td>\n",
       "      <td>Schustl</td>\n",
       "      <td>Male</td>\n",
       "      <td>13</td>\n",
       "      <td>Thailand</td>\n",
       "      <td>Vermilion Airport</td>\n",
       "      <td>CA</td>\n",
       "      <td>Canada</td>\n",
       "      <td>NAM</td>\n",
       "      <td>North America</td>\n",
       "      <td>2022-04-06</td>\n",
       "      <td>YVG</td>\n",
       "      <td>Burlie Schustl</td>\n",
       "      <td>On Time</td>\n",
       "    </tr>\n",
       "    <tr>\n",
       "      <th>18</th>\n",
       "      <td>15461</td>\n",
       "      <td>Jerrine</td>\n",
       "      <td>Peeters</td>\n",
       "      <td>Female</td>\n",
       "      <td>87</td>\n",
       "      <td>Philippines</td>\n",
       "      <td>Thompson Airport</td>\n",
       "      <td>CA</td>\n",
       "      <td>Canada</td>\n",
       "      <td>NAM</td>\n",
       "      <td>North America</td>\n",
       "      <td>2022-11-03</td>\n",
       "      <td>YTH</td>\n",
       "      <td>Jerrine Peeters</td>\n",
       "      <td>Cancelled</td>\n",
       "    </tr>\n",
       "    <tr>\n",
       "      <th>21</th>\n",
       "      <td>82431</td>\n",
       "      <td>Dorisa</td>\n",
       "      <td>Skill</td>\n",
       "      <td>Female</td>\n",
       "      <td>19</td>\n",
       "      <td>Ukraine</td>\n",
       "      <td>St Augustin Airport</td>\n",
       "      <td>CA</td>\n",
       "      <td>Canada</td>\n",
       "      <td>NAM</td>\n",
       "      <td>North America</td>\n",
       "      <td>2022-11-05</td>\n",
       "      <td>YIF</td>\n",
       "      <td>Dorisa Skill</td>\n",
       "      <td>Cancelled</td>\n",
       "    </tr>\n",
       "    <tr>\n",
       "      <th>31</th>\n",
       "      <td>64535</td>\n",
       "      <td>Celina</td>\n",
       "      <td>Boothebie</td>\n",
       "      <td>Female</td>\n",
       "      <td>58</td>\n",
       "      <td>Latvia</td>\n",
       "      <td>Gorge Harbour Seaplane Base</td>\n",
       "      <td>CA</td>\n",
       "      <td>Canada</td>\n",
       "      <td>NAM</td>\n",
       "      <td>North America</td>\n",
       "      <td>2022-08-05</td>\n",
       "      <td>YGE</td>\n",
       "      <td>Celina Boothebie</td>\n",
       "      <td>Cancelled</td>\n",
       "    </tr>\n",
       "    <tr>\n",
       "      <th>36</th>\n",
       "      <td>88025</td>\n",
       "      <td>Rudolph</td>\n",
       "      <td>Housbie</td>\n",
       "      <td>Male</td>\n",
       "      <td>74</td>\n",
       "      <td>Iran</td>\n",
       "      <td>Campbell River Airport</td>\n",
       "      <td>CA</td>\n",
       "      <td>Canada</td>\n",
       "      <td>NAM</td>\n",
       "      <td>North America</td>\n",
       "      <td>2022-07-22</td>\n",
       "      <td>YBL</td>\n",
       "      <td>Rudolph Housbie</td>\n",
       "      <td>Delayed</td>\n",
       "    </tr>\n",
       "    <tr>\n",
       "      <th>51</th>\n",
       "      <td>35159</td>\n",
       "      <td>Dredi</td>\n",
       "      <td>Curd</td>\n",
       "      <td>Female</td>\n",
       "      <td>45</td>\n",
       "      <td>Russia</td>\n",
       "      <td>Gaspé (Michel-Pouliot) Airport</td>\n",
       "      <td>CA</td>\n",
       "      <td>Canada</td>\n",
       "      <td>NAM</td>\n",
       "      <td>North America</td>\n",
       "      <td>2022-05-15</td>\n",
       "      <td>YGP</td>\n",
       "      <td>Dredi Curd</td>\n",
       "      <td>Cancelled</td>\n",
       "    </tr>\n",
       "    <tr>\n",
       "      <th>60</th>\n",
       "      <td>71627</td>\n",
       "      <td>Erwin</td>\n",
       "      <td>Baise</td>\n",
       "      <td>Male</td>\n",
       "      <td>12</td>\n",
       "      <td>Haiti</td>\n",
       "      <td>Tahsis Seaplane Base</td>\n",
       "      <td>CA</td>\n",
       "      <td>Canada</td>\n",
       "      <td>NAM</td>\n",
       "      <td>North America</td>\n",
       "      <td>2022-01-31</td>\n",
       "      <td>ZTS</td>\n",
       "      <td>Erwin Baise</td>\n",
       "      <td>Cancelled</td>\n",
       "    </tr>\n",
       "    <tr>\n",
       "      <th>81</th>\n",
       "      <td>14976</td>\n",
       "      <td>Noelyn</td>\n",
       "      <td>Penquet</td>\n",
       "      <td>Female</td>\n",
       "      <td>80</td>\n",
       "      <td>Brazil</td>\n",
       "      <td>Tahsis Seaplane Base</td>\n",
       "      <td>CA</td>\n",
       "      <td>Canada</td>\n",
       "      <td>NAM</td>\n",
       "      <td>North America</td>\n",
       "      <td>2022-11-16</td>\n",
       "      <td>ZTS</td>\n",
       "      <td>Noelyn Penquet</td>\n",
       "      <td>On Time</td>\n",
       "    </tr>\n",
       "  </tbody>\n",
       "</table>\n",
       "</div>"
      ],
      "text/plain": [
       "    Passenger ID First Name  Last Name  Gender  Age  Nationality  \\\n",
       "1          43872     Elwood       Catt    Male   62    Nicaragua   \n",
       "3          78493   Dominica       Pyle  Female   71        China   \n",
       "9          75035     Burlie    Schustl    Male   13     Thailand   \n",
       "18         15461    Jerrine    Peeters  Female   87  Philippines   \n",
       "21         82431     Dorisa      Skill  Female   19      Ukraine   \n",
       "31         64535     Celina  Boothebie  Female   58       Latvia   \n",
       "36         88025    Rudolph    Housbie    Male   74         Iran   \n",
       "51         35159      Dredi       Curd  Female   45       Russia   \n",
       "60         71627      Erwin      Baise    Male   12        Haiti   \n",
       "81         14976     Noelyn    Penquet  Female   80       Brazil   \n",
       "\n",
       "                      Airport Name Airport Country Code Country Name  \\\n",
       "1                Kugluktuk Airport                   CA       Canada   \n",
       "3        Ottawa / Gatineau Airport                   CA       Canada   \n",
       "9                Vermilion Airport                   CA       Canada   \n",
       "18                Thompson Airport                   CA       Canada   \n",
       "21             St Augustin Airport                   CA       Canada   \n",
       "31     Gorge Harbour Seaplane Base                   CA       Canada   \n",
       "36          Campbell River Airport                   CA       Canada   \n",
       "51  Gaspé (Michel-Pouliot) Airport                   CA       Canada   \n",
       "60            Tahsis Seaplane Base                   CA       Canada   \n",
       "81            Tahsis Seaplane Base                   CA       Canada   \n",
       "\n",
       "   Airport Continent     Continents Departure Date Arrival Airport  \\\n",
       "1                NAM  North America     2022-12-26             YCO   \n",
       "3                NAM  North America     2022-09-16             YND   \n",
       "9                NAM  North America     2022-04-06             YVG   \n",
       "18               NAM  North America     2022-11-03             YTH   \n",
       "21               NAM  North America     2022-11-05             YIF   \n",
       "31               NAM  North America     2022-08-05             YGE   \n",
       "36               NAM  North America     2022-07-22             YBL   \n",
       "51               NAM  North America     2022-05-15             YGP   \n",
       "60               NAM  North America     2022-01-31             ZTS   \n",
       "81               NAM  North America     2022-11-16             ZTS   \n",
       "\n",
       "          Pilot Name Flight Status  \n",
       "1        Elwood Catt       On Time  \n",
       "3      Dominica Pyle       Delayed  \n",
       "9     Burlie Schustl       On Time  \n",
       "18   Jerrine Peeters     Cancelled  \n",
       "21      Dorisa Skill     Cancelled  \n",
       "31  Celina Boothebie     Cancelled  \n",
       "36   Rudolph Housbie       Delayed  \n",
       "51        Dredi Curd     Cancelled  \n",
       "60       Erwin Baise     Cancelled  \n",
       "81    Noelyn Penquet       On Time  "
      ]
     },
     "execution_count": 61,
     "metadata": {},
     "output_type": "execute_result"
    }
   ],
   "source": [
    "# passengers from Canada\n",
    "df[df['Country Name']=='Canada'].head(10)"
   ]
  },
  {
   "cell_type": "code",
   "execution_count": 62,
   "id": "38fb9006-45e1-4e4d-bef8-fef330358630",
   "metadata": {},
   "outputs": [
    {
     "data": {
      "text/html": [
       "<div>\n",
       "<style scoped>\n",
       "    .dataframe tbody tr th:only-of-type {\n",
       "        vertical-align: middle;\n",
       "    }\n",
       "\n",
       "    .dataframe tbody tr th {\n",
       "        vertical-align: top;\n",
       "    }\n",
       "\n",
       "    .dataframe thead th {\n",
       "        text-align: right;\n",
       "    }\n",
       "</style>\n",
       "<table border=\"1\" class=\"dataframe\">\n",
       "  <thead>\n",
       "    <tr style=\"text-align: right;\">\n",
       "      <th></th>\n",
       "      <th>Passenger ID</th>\n",
       "      <th>First Name</th>\n",
       "      <th>Last Name</th>\n",
       "      <th>Gender</th>\n",
       "      <th>Age</th>\n",
       "      <th>Nationality</th>\n",
       "      <th>Airport Name</th>\n",
       "      <th>Airport Country Code</th>\n",
       "      <th>Country Name</th>\n",
       "      <th>Airport Continent</th>\n",
       "      <th>Continents</th>\n",
       "      <th>Departure Date</th>\n",
       "      <th>Arrival Airport</th>\n",
       "      <th>Pilot Name</th>\n",
       "      <th>Flight Status</th>\n",
       "    </tr>\n",
       "  </thead>\n",
       "  <tbody>\n",
       "    <tr>\n",
       "      <th>4</th>\n",
       "      <td>82072</td>\n",
       "      <td>Bay</td>\n",
       "      <td>Pencost</td>\n",
       "      <td>Male</td>\n",
       "      <td>21</td>\n",
       "      <td>China</td>\n",
       "      <td>Gillespie Field</td>\n",
       "      <td>US</td>\n",
       "      <td>United States</td>\n",
       "      <td>NAM</td>\n",
       "      <td>North America</td>\n",
       "      <td>2022-02-25</td>\n",
       "      <td>SEE</td>\n",
       "      <td>Bay Pencost</td>\n",
       "      <td>On Time</td>\n",
       "    </tr>\n",
       "    <tr>\n",
       "      <th>7</th>\n",
       "      <td>26470</td>\n",
       "      <td>Perceval</td>\n",
       "      <td>Dallosso</td>\n",
       "      <td>Male</td>\n",
       "      <td>36</td>\n",
       "      <td>Vietnam</td>\n",
       "      <td>Maestro Wilson Fonseca Airport</td>\n",
       "      <td>BR</td>\n",
       "      <td>Brazil</td>\n",
       "      <td>SAM</td>\n",
       "      <td>South America</td>\n",
       "      <td>2022-04-07</td>\n",
       "      <td>STM</td>\n",
       "      <td>Perceval Dallosso</td>\n",
       "      <td>Cancelled</td>\n",
       "    </tr>\n",
       "    <tr>\n",
       "      <th>8</th>\n",
       "      <td>29447</td>\n",
       "      <td>Aleda</td>\n",
       "      <td>Pigram</td>\n",
       "      <td>Female</td>\n",
       "      <td>35</td>\n",
       "      <td>Palestinian Territory</td>\n",
       "      <td>Venice Marco Polo Airport</td>\n",
       "      <td>IT</td>\n",
       "      <td>Italy</td>\n",
       "      <td>EU</td>\n",
       "      <td>Europe</td>\n",
       "      <td>2022-08-20</td>\n",
       "      <td>VCE</td>\n",
       "      <td>Aleda Pigram</td>\n",
       "      <td>On Time</td>\n",
       "    </tr>\n",
       "    <tr>\n",
       "      <th>9</th>\n",
       "      <td>75035</td>\n",
       "      <td>Burlie</td>\n",
       "      <td>Schustl</td>\n",
       "      <td>Male</td>\n",
       "      <td>13</td>\n",
       "      <td>Thailand</td>\n",
       "      <td>Vermilion Airport</td>\n",
       "      <td>CA</td>\n",
       "      <td>Canada</td>\n",
       "      <td>NAM</td>\n",
       "      <td>North America</td>\n",
       "      <td>2022-04-06</td>\n",
       "      <td>YVG</td>\n",
       "      <td>Burlie Schustl</td>\n",
       "      <td>On Time</td>\n",
       "    </tr>\n",
       "    <tr>\n",
       "      <th>10</th>\n",
       "      <td>29278</td>\n",
       "      <td>Porty</td>\n",
       "      <td>Jori</td>\n",
       "      <td>Male</td>\n",
       "      <td>39</td>\n",
       "      <td>Tunisia</td>\n",
       "      <td>Nuevo Casas Grandes Airport</td>\n",
       "      <td>MX</td>\n",
       "      <td>Mexico</td>\n",
       "      <td>NAM</td>\n",
       "      <td>North America</td>\n",
       "      <td>2022-05-27</td>\n",
       "      <td>NCG</td>\n",
       "      <td>Porty Jori</td>\n",
       "      <td>Cancelled</td>\n",
       "    </tr>\n",
       "  </tbody>\n",
       "</table>\n",
       "</div>"
      ],
      "text/plain": [
       "    Passenger ID First Name Last Name  Gender  Age            Nationality  \\\n",
       "4          82072        Bay   Pencost    Male   21                  China   \n",
       "7          26470   Perceval  Dallosso    Male   36                Vietnam   \n",
       "8          29447      Aleda    Pigram  Female   35  Palestinian Territory   \n",
       "9          75035     Burlie   Schustl    Male   13               Thailand   \n",
       "10         29278      Porty      Jori    Male   39                Tunisia   \n",
       "\n",
       "                      Airport Name Airport Country Code   Country Name  \\\n",
       "4                  Gillespie Field                   US  United States   \n",
       "7   Maestro Wilson Fonseca Airport                   BR         Brazil   \n",
       "8        Venice Marco Polo Airport                   IT          Italy   \n",
       "9                Vermilion Airport                   CA         Canada   \n",
       "10     Nuevo Casas Grandes Airport                   MX         Mexico   \n",
       "\n",
       "   Airport Continent     Continents Departure Date Arrival Airport  \\\n",
       "4                NAM  North America     2022-02-25             SEE   \n",
       "7                SAM  South America     2022-04-07             STM   \n",
       "8                 EU         Europe     2022-08-20             VCE   \n",
       "9                NAM  North America     2022-04-06             YVG   \n",
       "10               NAM  North America     2022-05-27             NCG   \n",
       "\n",
       "           Pilot Name Flight Status  \n",
       "4         Bay Pencost       On Time  \n",
       "7   Perceval Dallosso     Cancelled  \n",
       "8        Aleda Pigram       On Time  \n",
       "9      Burlie Schustl       On Time  \n",
       "10         Porty Jori     Cancelled  "
      ]
     },
     "execution_count": 62,
     "metadata": {},
     "output_type": "execute_result"
    }
   ],
   "source": [
    "# passengers younger than average age \n",
    "df[df['Age']<df['Age'].mean()].head(5)"
   ]
  },
  {
   "cell_type": "code",
   "execution_count": 63,
   "id": "d9d332cc-100e-44ff-8624-ee35c31fb2e7",
   "metadata": {},
   "outputs": [
    {
     "data": {
      "text/plain": [
       "array(['Coldfoot Airport', 'Kugluktuk Airport', 'Grenoble-Isère Airport',\n",
       "       ..., 'Camaxilo Airport', 'Babelthuap Airport',\n",
       "       'Westchester County Airport'], shape=(9062,), dtype=object)"
      ]
     },
     "execution_count": 63,
     "metadata": {},
     "output_type": "execute_result"
    }
   ],
   "source": [
    "# unique airports\n",
    "df['Airport Name'].unique()"
   ]
  },
  {
   "cell_type": "code",
   "execution_count": 64,
   "id": "e10386ea-5114-4543-821c-e01b77cdb2b9",
   "metadata": {},
   "outputs": [
    {
     "data": {
      "text/plain": [
       "np.int64(38748)"
      ]
     },
     "execution_count": 64,
     "metadata": {},
     "output_type": "execute_result"
    }
   ],
   "source": [
    "# duplicate passenger ID \n",
    "df['Passenger ID'].duplicated().sum()"
   ]
  },
  {
   "cell_type": "code",
   "execution_count": 65,
   "id": "bde9d8b5-aee7-4c1c-beab-57e2d4a7e948",
   "metadata": {},
   "outputs": [
    {
     "data": {
      "text/plain": [
       "Arrival Airport\n",
       "0      873\n",
       "JNB     37\n",
       "PHM     36\n",
       "MPT     32\n",
       "YTY     27\n",
       "      ... \n",
       "MGB      2\n",
       "LNX      2\n",
       "KRX      2\n",
       "HIJ      1\n",
       "FAL      1\n",
       "Name: count, Length: 9024, dtype: int64"
      ]
     },
     "execution_count": 65,
     "metadata": {},
     "output_type": "execute_result"
    }
   ],
   "source": [
    "# flights per arrival airport\n",
    "df['Arrival Airport'].value_counts()"
   ]
  },
  {
   "cell_type": "code",
   "execution_count": 66,
   "id": "3f35e812-3876-499f-add5-15d370fe720b",
   "metadata": {},
   "outputs": [
    {
     "data": {
      "image/png": "[encoded data removed]",
      "text/plain": [
       "<Figure size 640x480 with 1 Axes>"
      ]
     },
     "metadata": {},
     "output_type": "display_data"
    }
   ],
   "source": [
    "# ontime vs delayed bar chart \n",
    "df['Flight Status'].value_counts().plot(kind='bar',title='Ontime vs Delayed',color='purple')\n",
    "plt.xlabel('Flight status')\n",
    "plt.ylabel('Count')\n",
    "plt.show()"
   ]
  },
  {
   "cell_type": "code",
   "execution_count": 67,
   "id": "47f96c35-6dec-4d2d-ad04-6b740adc0b79",
   "metadata": {},
   "outputs": [
    {
     "data": {
      "image/png": "[encoded data removed]",
      "text/plain": [
       "<Figure size 640x480 with 1 Axes>"
      ]
     },
     "metadata": {},
     "output_type": "display_data"
    }
   ],
   "source": [
    "# passenger age distribution\n",
    "df['Age'].value_counts().plot(kind='hist',bins=5,title='Passenger Age Distribution',color='blue')\n",
    "plt.show()"
   ]
  },
  {
   "cell_type": "code",
   "execution_count": 68,
   "id": "383f1b42-4f10-4379-a04a-900dad7be1a9",
   "metadata": {},
   "outputs": [
    {
     "data": {
      "image/png": "[encoded data removed]",
      "text/plain": [
       "<Figure size 640x480 with 1 Axes>"
      ]
     },
     "metadata": {},
     "output_type": "display_data"
    }
   ],
   "source": [
    "# flights per continent \n",
    "df['Airport Continent'].value_counts().plot(kind='pie',autopct='%1.1f%%',title='Flights per continent')\n",
    "plt.show()"
   ]
  },
  {
   "cell_type": "code",
   "execution_count": 69,
   "id": "ac8d63ff-b324-410e-896f-4a61d70322a9",
   "metadata": {},
   "outputs": [
    {
     "data": {
      "image/png": "[encoded data removed]",
      "text/plain": [
       "<Figure size 640x480 with 1 Axes>"
      ]
     },
     "metadata": {},
     "output_type": "display_data"
    }
   ],
   "source": [
    "# flights per month \n",
    "df['Departure Date'].dt.month.value_counts().sort_index().plot(kind='line',title='Flights per month',color='black')\n",
    "plt.show()"
   ]
  },
  {
   "cell_type": "code",
   "execution_count": 70,
   "id": "c79ed5fe-50d2-4c07-a728-bec12a534556",
   "metadata": {},
   "outputs": [
    {
     "data": {
      "image/png": "[encoded data removed]",
      "text/plain": [
       "<Figure size 640x480 with 1 Axes>"
      ]
     },
     "metadata": {},
     "output_type": "display_data"
    }
   ],
   "source": [
    "# gender distribution\n",
    "df['Gender'].value_counts().plot(kind='bar',title='Gender Distribution',color='black')\n",
    "plt.xlabel('gender')\n",
    "plt.ylabel('Counts')\n",
    "plt.show()"
   ]
  },
  {
   "cell_type": "code",
   "execution_count": 71,
   "id": "48b205c4-3c82-44b3-8086-2ee0f02fe8dd",
   "metadata": {},
   "outputs": [
    {
     "data": {
      "image/png": "[encoded data removed]",
      "text/plain": [
       "<Figure size 640x480 with 1 Axes>"
      ]
     },
     "metadata": {},
     "output_type": "display_data"
    }
   ],
   "source": [
    "# top 5 nationalities \n",
    "df['Nationality'].value_counts().head(5).plot(kind='barh',title='Top 5 Nationalities')\n",
    "plt.show()"
   ]
  },
  {
   "cell_type": "code",
   "execution_count": 72,
   "id": "60dc1a9f-fc66-4c36-ba31-f7227e882719",
   "metadata": {},
   "outputs": [
    {
     "data": {
      "image/png": "[encoded data removed]",
      "text/plain": [
       "<Figure size 640x480 with 1 Axes>"
      ]
     },
     "metadata": {},
     "output_type": "display_data"
    }
   ],
   "source": [
    "# top 10 pilots \n",
    "df['Pilot Name'].value_counts().head(10).plot(kind='bar',title='Top 10 Pilots')\n",
    "plt.xlabel('Pilot Name')\n",
    "plt.show()"
   ]
  },
  {
   "cell_type": "code",
   "execution_count": 73,
   "id": "908fdd26-a43f-4c4a-858f-ab895109bf4f",
   "metadata": {},
   "outputs": [
    {
     "data": {
      "image/png": "[encoded data removed]",
      "text/plain": [
       "<Figure size 640x480 with 1 Axes>"
      ]
     },
     "metadata": {},
     "output_type": "display_data"
    }
   ],
   "source": [
    "# airport country code \n",
    "df['Airport Country Code'].value_counts().head(6).plot(kind='pie',autopct='%1.1f%%',title='Airport country code')\n",
    "plt.show()"
   ]
  }
 ],
 "metadata": {
  "kernelspec": {
   "display_name": "Python 3 (ipykernel)",
   "language": "python",
   "name": "python3"
  },
  "language_info": {
   "codemirror_mode": {
    "name": "ipython",
    "version": 3
   },
   "file_extension": ".py",
   "mimetype": "text/x-python",
   "name": "python",
   "nbconvert_exporter": "python",
   "pygments_lexer": "ipython3",
   "version": "3.13.4"
  }
 },
 "nbformat": 4,
 "nbformat_minor": 5
}
